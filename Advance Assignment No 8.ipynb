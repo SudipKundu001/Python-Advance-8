{
 "cells": [
  {
   "cell_type": "markdown",
   "id": "24fca7ea",
   "metadata": {},
   "source": [
    ">__Q1. What are the two latest user-defined exception constraints in Python 3.X?__\n",
    "\n",
    "\n",
    "\n",
    "\n",
    "\n",
    "\n",
    "\n",
    "\n",
    "\n",
    "\n",
    "\n",
    "\n",
    "\n",
    "\n"
   ]
  },
  {
   "cell_type": "markdown",
   "id": "9a973fe6",
   "metadata": {},
   "source": [
    "Ans. Python also provides an exception handling method with the help of try-except. Some of the standard exceptions which are most frequent include IndexError, ImportError, IOError, ZeroDivisionError, TypeError, and FileNotFoundError."
   ]
  },
  {
   "cell_type": "markdown",
   "id": "36ccf54e",
   "metadata": {},
   "source": [
    ">__Q2. How are class-based exceptions that have been raised matched to handlers?__"
   ]
  },
  {
   "cell_type": "markdown",
   "id": "3b729171",
   "metadata": {},
   "source": [
    "Ans.  These exceptions are defined by exception classes, from which an exception object can be created when an exception is raised (if a handler uses the addition INTO in CATCH). A class-based exception can either cancel the current context or allow for a resume. Exceptions are raised using the statement RAISE EXCEPTION and handled using CATCH in a TRY control structure. Class-based exceptions can be raised in any procedures and can be further propagated by any procedures."
   ]
  },
  {
   "cell_type": "markdown",
   "id": "d1051818",
   "metadata": {},
   "source": [
    ">__Q3. Why do you no longer use string-based exceptions?__"
   ]
  },
  {
   "cell_type": "markdown",
   "id": "92ac2b6d",
   "metadata": {},
   "source": [
    "Ans.  Because it is possible (although unlikely) that this change broke existing code, the Python interpreter can be invoked the command line option -X to disable this feature, and use string exceptions like before."
   ]
  }
 ],
 "metadata": {
  "kernelspec": {
   "display_name": "Python 3",
   "language": "python",
   "name": "python3"
  },
  "language_info": {
   "codemirror_mode": {
    "name": "ipython",
    "version": 3
   },
   "file_extension": ".py",
   "mimetype": "text/x-python",
   "name": "python",
   "nbconvert_exporter": "python",
   "pygments_lexer": "ipython3",
   "version": "3.8.8"
  }
 },
 "nbformat": 4,
 "nbformat_minor": 5
}
